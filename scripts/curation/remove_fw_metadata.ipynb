{
 "cells": [
  {
   "cell_type": "code",
   "execution_count": 19,
   "source": [
    "import flywheel\n",
    "import logging\n",
    "import sys\n",
    "\n",
    "logging.basicConfig(\n",
    "    stream=sys.stdout, \n",
    "    level=logging.INFO, \n",
    "    format='%(levelname)s: %(message)s')\n",
    "\n",
    "logger = logging.getLogger('fw_remove_metadata')\n",
    "\n",
    "logger.setLevel(logging.INFO)\n",
    "\n",
    "# create console handler and set level to debug\n",
    "ch = logging.StreamHandler()\n",
    "ch.setLevel(logging.DEBUG)\n",
    "formatter = logging.Formatter('%(levelname)s: %(message)s')\n",
    "ch.setFormatter(formatter)\n",
    "logger.addHandler(ch)\n",
    "\n",
    "\n",
    "logger.info(\"fw_remove_metadata starting up\")\n"
   ],
   "outputs": [
    {
     "output_type": "stream",
     "name": "stdout",
     "text": [
      "INFO: fw_remove_metadata starting up\n"
     ]
    }
   ],
   "metadata": {}
  },
  {
   "cell_type": "code",
   "execution_count": 20,
   "source": [
    "# Specify project (required)\n",
    "project_label = \"22Q_812481\"\n",
    "\n",
    "# Specify sessions (optional)\n",
    "session_labels = [\"008120\",\"008144\"]\n",
    "\n",
    "# Which file types to change metadata\n",
    "allowed_ftypes = [\"nifti\"]\n",
    "\n",
    "# Specify list of fields to delete\n",
    "fields_for_deletion = [\n",
    "    \"AcquisitionDateTime\",\n",
    "    \"AcqusitionTime\",\n",
    "    \"PatientSex\", \n",
    "    \"SeriesInstanceUID\",\n",
    "    \"DeviceSerialNumber\", \n",
    "    \"AcquisitionTime\",\n",
    "    \"ReferringPhysicianName\",\n",
    "    \"StationName\",\n",
    "    \"InstitutionAddress\",\n",
    "    \"InstitutionName\",\n",
    "    \"InstitutionalDepartmentName\",\n",
    "    ###### ASL specific: ######\n",
    "    \"AcquisitionDuration\",\n",
    "    \"ArterialLabelingType\",\n",
    "    \"AverageB1LabelingPulses\",\n",
    "    \"AverageLabelingGradient\",\n",
    "    \"BolusCutOffDelayTime\",\n",
    "    \"BolusCutOffFlag\",\n",
    "    \"BolusCutOffTechnique\",\n",
    "    \"BolusCutOffTimingSequence\",\n",
    "    \"LabelingOrientation\",\n",
    "    \"LookLocker\",\n",
    "    \"M0\",\n",
    "    \"PASLType\",\n",
    "    \"PulseDuration\",\n",
    "    \"PulseSequenceDetails\"\n",
    "    ]"
   ],
   "outputs": [],
   "metadata": {}
  },
  {
   "cell_type": "code",
   "execution_count": null,
   "source": [
    "# Get client\n",
    "fw = flywheel.Client()\n",
    "assert fw, \"Your Flywheel CLI credentials aren't set!\"\n",
    "\n",
    "# Get project object\n",
    "project = fw.projects.find_first(            \n",
    "    'label=\"{}\"'.format(project_label))\n",
    "assert project, \"Project not found!\"\n",
    "logger.debug('Found project: %s (%s)',\n",
    "                     project['label'], project.id)\n"
   ],
   "outputs": [],
   "metadata": {}
  },
  {
   "cell_type": "code",
   "execution_count": 14,
   "source": [
    "# Get all sessions in project\n",
    "sessions = project.sessions()\n",
    "\n",
    "# Filter by optionally-specified session label list\n",
    "if session_labels:\n",
    "    sessions = [s for s in sessions if s.label in session_labels]\n",
    "\n",
    "assert sessions, \"No sessions found!\"\n",
    "logger.info(f\"Metadata will be removed from {len(sessions)} sessions\".)"
   ],
   "outputs": [
    {
     "output_type": "stream",
     "name": "stdout",
     "text": [
      "INFO: Processing 2 sessions\n"
     ]
    }
   ],
   "metadata": {
    "tags": []
   }
  },
  {
   "cell_type": "code",
   "execution_count": 18,
   "source": [
    "# Get acquisitions in each session\n",
    "i=0\n",
    "for sess in sessions:\n",
    "    i+=1\n",
    "    #sess = sess.reload()\n",
    "    acqs = sess.acquisitions()\n",
    "    logger.info(f\"Processing session: {sess.label} ({i}/{len(sessions)})\")\n",
    "\n",
    "    # Get files in each acquisition\n",
    "    for acq in acqs:\n",
    "        acq = acq.reload() # Can't load custom metadata without this line!!!\n",
    "        files = [f for f in acq.files if f.type in allowed_ftypes]\n",
    "        \n",
    "        # Delete info from each file\n",
    "        for f in files:\n",
    "            f.delete_info(fields_for_deletion)\n",
    "            #print(\"Removed fields from:\\t{}\".format(f.name))\n",
    "            logger.info(f\"Removing metadata from {f.name}\")\n",
    "\n",
    "logger.info(\"Done!\")"
   ],
   "outputs": [
    {
     "output_type": "stream",
     "name": "stdout",
     "text": [
      "INFO: Processing Session: 008120 (1/2)\n",
      "INFO: Removing metadata from bbl1_idemo2_210_8.nii.gz\n",
      "INFO: Removing metadata from epi_singlerep_advshim_22q_5.nii.gz\n",
      "INFO: Removing metadata from MPRAGE_TI1100_ipat2_2.nii.gz\n",
      "INFO: Removing metadata from DTI_2x32_36_11.nii.gz\n",
      "INFO: Removing metadata from B0map_onesizefitsall_v3_6_e2.nii.gz\n",
      "INFO: Removing metadata from B0map_onesizefitsall_v3_6_e1.nii.gz\n",
      "INFO: Removing metadata from ep2d_se_pcasl_PHC_1200ms_3.nii.gz\n",
      "INFO: Removing metadata from localizer_1_i00003.nii.gz\n",
      "INFO: Removing metadata from localizer_1_i00002.nii.gz\n",
      "INFO: Removing metadata from localizer_1_i00001.nii.gz\n",
      "INFO: Removing metadata from bbl1_jolo1_198_9.nii.gz\n",
      "INFO: Removing metadata from B0map_onesizefitsall_v3_7_e2_ph.nii.gz\n",
      "INFO: Removing metadata from B0map_onesizefitsall_v3_7_e1_ph.nii.gz\n",
      "INFO: Removing metadata from ep2d_se_pcasl_PHC_1200ms_4.nii.gz\n",
      "INFO: Removing metadata from ep2d_se_pcasl_PHC_1200ms_MoCo_4.nii.gz\n",
      "INFO: Removing metadata from DTI_2x32_35_10.nii.gz\n",
      "INFO: Removing metadata from bbl1_restbold1_124_12.nii.gz\n",
      "INFO: Processing Session: 008144 (2/2)\n",
      "INFO: Removing metadata from bbl1_restbold1_124_12.nii.gz\n",
      "INFO: Removing metadata from DTI_2x32_36_11.nii.gz\n",
      "INFO: Removing metadata from bbl1_jolo1_198_8.nii.gz\n",
      "INFO: Removing metadata from ep2d_se_pcasl_PHC_1200ms_4.nii.gz\n",
      "INFO: Removing metadata from ep2d_se_pcasl_PHC_1200ms_MoCo_4.nii.gz\n",
      "INFO: Removing metadata from localizer_1_i00003.nii.gz\n",
      "INFO: Removing metadata from localizer_1_i00002.nii.gz\n",
      "INFO: Removing metadata from localizer_1_i00001.nii.gz\n",
      "INFO: Removing metadata from B0map_onesizefitsall_v3_6_e2.nii.gz\n",
      "INFO: Removing metadata from B0map_onesizefitsall_v3_6_e1.nii.gz\n",
      "INFO: Removing metadata from ep2d_se_pcasl_PHC_1200ms_3.nii.gz\n",
      "INFO: Removing metadata from bbl1_idemo2_210_9.nii.gz\n",
      "INFO: Removing metadata from B0map_onesizefitsall_v3_7_e2_ph.nii.gz\n",
      "INFO: Removing metadata from B0map_onesizefitsall_v3_7_e1_ph.nii.gz\n",
      "INFO: Removing metadata from epi_singlerep_advshim_22q_5.nii.gz\n",
      "INFO: Removing metadata from DTI_2x32_35_10.nii.gz\n",
      "INFO: Removing metadata from MPRAGE_TI1100_ipat2_2.nii.gz\n"
     ]
    }
   ],
   "metadata": {
    "tags": []
   }
  },
  {
   "cell_type": "code",
   "execution_count": null,
   "source": [],
   "outputs": [],
   "metadata": {}
  }
 ],
 "metadata": {
  "interpreter": {
   "hash": "aee8b7b246df8f9039afb4144a1f6fd8d2ca17a180786b69acc140d282b71a49"
  },
  "kernelspec": {
   "display_name": "Python 3.9.5 64-bit",
   "name": "python3"
  },
  "language_info": {
   "name": "python",
   "version": ""
  },
  "orig_nbformat": 2
 },
 "nbformat": 4,
 "nbformat_minor": 2
}