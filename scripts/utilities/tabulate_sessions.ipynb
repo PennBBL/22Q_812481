{
 "metadata": {
  "language_info": {
   "codemirror_mode": {
    "name": "ipython",
    "version": 3
   },
   "file_extension": ".py",
   "mimetype": "text/x-python",
   "name": "python",
   "nbconvert_exporter": "python",
   "pygments_lexer": "ipython3",
   "version": "3.8.5-final"
  },
  "orig_nbformat": 2,
  "kernelspec": {
   "name": "python3",
   "display_name": "Python 3.8.5 64-bit",
   "metadata": {
    "interpreter": {
     "hash": "516b87fc7de28c1ceda8fc47f1433752345eefe45ffbb466d5f717b9a56c195f"
    }
   }
  }
 },
 "nbformat": 4,
 "nbformat_minor": 2,
 "cells": [
  {
   "cell_type": "code",
   "execution_count": null,
   "metadata": {},
   "outputs": [],
   "source": [
    "import flywheel\n",
    "import pandas as pd\n",
    "from datetime import date\n"
   ]
  },
  {
   "cell_type": "code",
   "execution_count": null,
   "metadata": {},
   "outputs": [],
   "source": [
    "# Get API_KEY from FW profile\n",
    "API_KEY = \"upenn.flywheel.io:47vhOSDkwMxGRNxFq0\"\n",
    "\n",
    "# Get client\n",
    "fw = flywheel.Client(API_KEY)\n",
    "assert fw, \"Your Flywheel CLI credentials aren't set!\"\n",
    "\n",
    "# Specify project\n",
    "project_label = \"22Q_812481\"\n",
    "\n",
    "study_info = {\n",
    "    \"subject\":[], \n",
    "    \"session\":[]\n",
    "    #\"date\":[]\n",
    "    }\n",
    "\n",
    "# Get project object\n",
    "project = fw.projects.find_first('label=\"{}\"'.format(project_label))\n",
    "assert project, \"Project not found!\""
   ]
  },
  {
   "cell_type": "code",
   "execution_count": 7,
   "metadata": {},
   "outputs": [
    {
     "output_type": "execute_result",
     "data": {
      "text/plain": [
       "  subject session\n",
       "0  016533  009422\n",
       "1  018072  008674\n",
       "2  017997  008484\n",
       "3  017393  007194\n",
       "4  014679  004971"
      ],
      "text/html": "<div>\n<style scoped>\n    .dataframe tbody tr th:only-of-type {\n        vertical-align: middle;\n    }\n\n    .dataframe tbody tr th {\n        vertical-align: top;\n    }\n\n    .dataframe thead th {\n        text-align: right;\n    }\n</style>\n<table border=\"1\" class=\"dataframe\">\n  <thead>\n    <tr style=\"text-align: right;\">\n      <th></th>\n      <th>subject</th>\n      <th>session</th>\n    </tr>\n  </thead>\n  <tbody>\n    <tr>\n      <th>0</th>\n      <td>016533</td>\n      <td>009422</td>\n    </tr>\n    <tr>\n      <th>1</th>\n      <td>018072</td>\n      <td>008674</td>\n    </tr>\n    <tr>\n      <th>2</th>\n      <td>017997</td>\n      <td>008484</td>\n    </tr>\n    <tr>\n      <th>3</th>\n      <td>017393</td>\n      <td>007194</td>\n    </tr>\n    <tr>\n      <th>4</th>\n      <td>014679</td>\n      <td>004971</td>\n    </tr>\n  </tbody>\n</table>\n</div>"
     },
     "metadata": {},
     "execution_count": 7
    }
   ],
   "source": [
    "# Loop through subjects in project\n",
    "for subj in project.subjects():\n",
    "    # Loop through sessions in subject\n",
    "    for ses in subj.sessions():\n",
    "        ses = ses.reload()\n",
    "        study_info[\"subject\"].append(subj.label)\n",
    "        study_info[\"session\"].append(ses.label)\n",
    "        #study_info[\"date\"].append(ses[\"timestamp\"].strftime(\"%Y-%m-%d\"))\n",
    "\n",
    "# Create pandas dataframe\n",
    "study_df = pd.DataFrame.from_dict(study_info)\n",
    "study_df.head()"
   ]
  },
  {
   "cell_type": "code",
   "execution_count": 8,
   "metadata": {},
   "outputs": [],
   "source": [
    "filename = '/Users/kzoner/BBL/projects/22Q_812481/info/session_summary.csv'\n",
    "study_df.to_csv(filename, index=False)"
   ]
  }
 ]
}