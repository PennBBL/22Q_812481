{
 "metadata": {
  "language_info": {
   "codemirror_mode": {
    "name": "ipython",
    "version": 3
   },
   "file_extension": ".py",
   "mimetype": "text/x-python",
   "name": "python",
   "nbconvert_exporter": "python",
   "pygments_lexer": "ipython3",
   "version": "3.8.5-final"
  },
  "orig_nbformat": 2,
  "kernelspec": {
   "name": "python3",
   "display_name": "Python 3",
   "language": "python"
  }
 },
 "nbformat": 4,
 "nbformat_minor": 2,
 "cells": [
  {
   "source": [
    "# __Using pydicom to read metadata from DICOM header.__\n",
    "\n",
    "### For metadata field reference, see [BIDS Specification Table] (https://bids-specification.readthedocs.io/en/stable/04-modality-specific-files/01-magnetic-resonance-imaging-data.html)\n",
    "\n",
    "- volume types (for `asl_context.tsv`): DICOM Tag (0018,9257) ASL Context\n",
    "- `VascularCrushing` (boolean): DICOM Tag (0018,9259) ASL Crusher Flag\n",
    "- `LabelingOrientation` (array of numbers): DICOM Tag (0018,9255) ASL Slab Orientation \n",
    "- `LabelingDuration`: DICOM Tag (0018,9258) ASL Pulse Train Duration\n"
   ],
   "cell_type": "markdown",
   "metadata": {}
  },
  {
   "source": [
    "import pydicom \n",
    "dcmPath = \"../1.3.12.2.1107.5.2.32.35069.2011090210001915703423651.MR.dcm\"\n",
    "dcmPath = \"/Users/kzoner/BBL/projects/22Q_812481/1.3.12.2.1107.5.2.32.35069.2011090210045913780132331.MR.dcm\"\n",
    "\n",
    "ds = pydicom.filereader.dcmread(dcmPath)\n",
    "len(ds)\n"
   ],
   "cell_type": "code",
   "metadata": {},
   "execution_count": 51,
   "outputs": [
    {
     "output_type": "execute_result",
     "data": {
      "text/plain": [
       "90"
      ]
     },
     "metadata": {},
     "execution_count": 51
    }
   ]
  },
  {
   "cell_type": "code",
   "execution_count": null,
   "metadata": {},
   "outputs": [],
   "source": [
    "def printMetadata(headerFields):\n",
    "    for field in headerFields:\n",
    "        try:\n",
    "            #print('\\\"', field, ': \\\"', ds[field].value, '\\\"', sep='')\n",
    "            print(field, \": \", ds[field].value, sep='')\n",
    "        except KeyError:\n",
    "\n",
    "            print(field, \": \", \"NOT FOUND\", sep='')\n"
   ]
  },
  {
   "cell_type": "code",
   "execution_count": null,
   "metadata": {},
   "outputs": [],
   "source": [
    "fields = [\"MRAcquisitionType\",\"ASLContext\",\"VascularCrushing\"]\n",
    "printMetadata(fields)"
   ]
  },
  {
   "cell_type": "code",
   "execution_count": null,
   "metadata": {},
   "outputs": [],
   "source": [
    "fields = [\n",
    "        \"AcquisitionDuration\",\n",
    "        \"ArterialSpinLabelingType\",\n",
    "        \"AverageB1LabelingPulses\",\n",
    "        \"AverageLabelingGradient\",\n",
    "        \"BackgroundSuppression\",\n",
    "        \"BackgroundSuppressionLength\",\n",
    "        \"BackgroundSuppressionPulseTime\",\n",
    "        \"InterPulseSpacing\",\n",
    "        \"LabelingDistance\",\n",
    "        \"LabelingDuration\", \n",
    "        \"LabelingEfficiency\",\n",
    "        \"LabelingOrientation\",\n",
    "        \"LabelingSlabLocation\",\n",
    "        \"LabelingType\",\n",
    "        \"LookLocker\",\n",
    "        \"M0Type\",\n",
    "        \"PCASLType\",\n",
    "        \"PostLabelingDelay\",\n",
    "        \"PulseDuration\",\n",
    "        \"PulseSequenceDetails\",\n",
    "        \"PulseSequenceType\",\n",
    "        \"SliceSelectiveLabelingGradient\"]"
   ]
  },
  {
   "cell_type": "code",
   "execution_count": null,
   "metadata": {},
   "outputs": [],
   "source": [
    "printMetadata(fields)"
   ]
  },
  {
   "cell_type": "code",
   "execution_count": null,
   "metadata": {},
   "outputs": [],
   "source": []
  }
 ]
}