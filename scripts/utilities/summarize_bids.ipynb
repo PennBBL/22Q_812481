{
 "metadata": {
  "language_info": {
   "codemirror_mode": {
    "name": "ipython",
    "version": 3
   },
   "file_extension": ".py",
   "mimetype": "text/x-python",
   "name": "python",
   "nbconvert_exporter": "python",
   "pygments_lexer": "ipython3",
   "version": "3.8.5-final"
  },
  "orig_nbformat": 2,
  "kernelspec": {
   "name": "python3",
   "display_name": "Python 3.8.5 64-bit",
   "metadata": {
    "interpreter": {
     "hash": "516b87fc7de28c1ceda8fc47f1433752345eefe45ffbb466d5f717b9a56c195f"
    }
   }
  }
 },
 "nbformat": 4,
 "nbformat_minor": 2,
 "cells": [
  {
   "source": [
    "# Using PyBIDS to Summarize a BIDS Dataset\n",
    "_Project: 22Q_812481_ <br>\n",
    "_Author: Katja Zoner_ <br>\n",
    "_Date: 03/15/2021_  <br>"
   ],
   "cell_type": "markdown",
   "metadata": {}
  },
  {
   "cell_type": "code",
   "execution_count": null,
   "metadata": {},
   "outputs": [],
   "source": [
    "import os\n",
    "import pandas as pd\n",
    "from bids import BIDSLayout, BIDSValidator\n",
    "from bids.reports import BIDSReport\n",
    "\n",
    "project = '/Users/kzoner/BBL/projects/22Q_812481'\n",
    "bids_root = os.path.join(project,'data','bids_directory')\n",
    "\n",
    "# Generate BIDSLayout obj from bids root directory\n",
    "layout = BIDSLayout(bids_root)\n"
   ]
  },
  {
   "cell_type": "code",
   "execution_count": 134,
   "metadata": {},
   "outputs": [
    {
     "output_type": "execute_result",
     "data": {
      "text/plain": [
       "BIDS Layout: ...22Q_812481/data/bids_directory | Subjects: 130 | Sessions: 131 | Runs: 225"
      ]
     },
     "metadata": {},
     "execution_count": 134
    }
   ],
   "source": [
    "# Get basic info from layout object\n",
    "layout"
   ]
  },
  {
   "source": [
    "## Project 22Q contains 130 Subjects and 131 Sessions total.\n",
    "\n",
    "__*Note:*__ _`sub-16095` is the only subject in 22Q with longitudinal data! Their first session was in 2011, and their second session was in 2014._"
   ],
   "cell_type": "markdown",
   "metadata": {}
  },
  {
   "cell_type": "code",
   "execution_count": null,
   "metadata": {},
   "outputs": [],
   "source": [
    "# Convert layout object to pandas df\n",
    "df = layout.to_df()\n",
    "\n",
    "# Edit df so that ASL files are of datatype 'perf' --> apparently pybids hasn't been updated for ASL data\n",
    "is_perf = (df['acquisition']=='se')\n",
    "df.loc[is_perf,'datatype']='perf'\n",
    "\n",
    "df.head()"
   ]
  },
  {
   "cell_type": "code",
   "execution_count": null,
   "metadata": {},
   "outputs": [],
   "source": [
    "# Merge run/task info into suffix col for pivot table\n",
    "is_rest = (df['task']=='rest')\n",
    "df.loc[is_rest,'suffix']='rest_bold'\n",
    "\n",
    "is_idemo = (df['task']=='idemo')\n",
    "df.loc[is_idemo,'suffix']='idemo_bold'\n",
    "\n",
    "is_run1 = (df['run']==1)\n",
    "df.loc[is_run1,'suffix']='run-01'\n",
    "\n",
    "is_run2 = (df['run']==2)\n",
    "df.loc[is_run2,'suffix']='run-02'\n",
    "\n",
    "# Rename cols for pivot table\n",
    "df.columns = ['File Count', 'acquisition', 'modality', 'extension', 'fmap', 'run', 'session', 'subject', 'scan', 'task']"
   ]
  },
  {
   "source": [
    "## The following code creates and displays a summary table of the `.nii.gz` files in 22Q. <br>\n",
    "For each subject, display file count by modality and scan type. <br>\n",
    "See bottom row for project totals.\n"
   ],
   "cell_type": "markdown",
   "metadata": {}
  },
  {
   "cell_type": "code",
   "execution_count": 153,
   "metadata": {},
   "outputs": [
    {
     "output_type": "execute_result",
     "data": {
      "text/plain": [
       "modality anat    dwi              fmap                                func  \\\n",
       "scan      T1w run-01 run-02 magnitude1 magnitude2 phase1 phase2 idemo_bold   \n",
       "subject                                                                      \n",
       "109741      1      1      1          0          0      0      0          0   \n",
       "11706       1      1      1          0          0      0      0          0   \n",
       "11936       1      1      1          0          0      0      0          0   \n",
       "12410       1      1      1          0          0      0      0          0   \n",
       "12835       1      1      1          0          0      0      0          0   \n",
       "...       ...    ...    ...        ...        ...    ...    ...        ...   \n",
       "18379       1      1      1          1          1      1      0          1   \n",
       "19434       1      1      1          1          1      1      0          1   \n",
       "19475       1      1      1          1          1      1      0          1   \n",
       "19489       1      0      0          1          1      1      0          0   \n",
       "Total     131    115    112         41         41     43     14         45   \n",
       "\n",
       "modality           perf Total  \n",
       "scan     rest_bold  asl        \n",
       "subject                        \n",
       "109741           1    1     5  \n",
       "11706            1    1     5  \n",
       "11936            1    1     5  \n",
       "12410            1    1     5  \n",
       "12835            1    1     5  \n",
       "...            ...  ...   ...  \n",
       "18379            1    1     9  \n",
       "19434            1    1     9  \n",
       "19475            1    1     9  \n",
       "19489            0    1     5  \n",
       "Total          117  127   786  \n",
       "\n",
       "[131 rows x 11 columns]"
      ],
      "text/html": "<div>\n<style scoped>\n    .dataframe tbody tr th:only-of-type {\n        vertical-align: middle;\n    }\n\n    .dataframe tbody tr th {\n        vertical-align: top;\n    }\n\n    .dataframe thead tr th {\n        text-align: left;\n    }\n\n    .dataframe thead tr:last-of-type th {\n        text-align: right;\n    }\n</style>\n<table border=\"1\" class=\"dataframe\">\n  <thead>\n    <tr>\n      <th>modality</th>\n      <th>anat</th>\n      <th colspan=\"2\" halign=\"left\">dwi</th>\n      <th colspan=\"4\" halign=\"left\">fmap</th>\n      <th colspan=\"2\" halign=\"left\">func</th>\n      <th>perf</th>\n      <th>Total</th>\n    </tr>\n    <tr>\n      <th>scan</th>\n      <th>T1w</th>\n      <th>run-01</th>\n      <th>run-02</th>\n      <th>magnitude1</th>\n      <th>magnitude2</th>\n      <th>phase1</th>\n      <th>phase2</th>\n      <th>idemo_bold</th>\n      <th>rest_bold</th>\n      <th>asl</th>\n      <th></th>\n    </tr>\n    <tr>\n      <th>subject</th>\n      <th></th>\n      <th></th>\n      <th></th>\n      <th></th>\n      <th></th>\n      <th></th>\n      <th></th>\n      <th></th>\n      <th></th>\n      <th></th>\n      <th></th>\n    </tr>\n  </thead>\n  <tbody>\n    <tr>\n      <th>109741</th>\n      <td>1</td>\n      <td>1</td>\n      <td>1</td>\n      <td>0</td>\n      <td>0</td>\n      <td>0</td>\n      <td>0</td>\n      <td>0</td>\n      <td>1</td>\n      <td>1</td>\n      <td>5</td>\n    </tr>\n    <tr>\n      <th>11706</th>\n      <td>1</td>\n      <td>1</td>\n      <td>1</td>\n      <td>0</td>\n      <td>0</td>\n      <td>0</td>\n      <td>0</td>\n      <td>0</td>\n      <td>1</td>\n      <td>1</td>\n      <td>5</td>\n    </tr>\n    <tr>\n      <th>11936</th>\n      <td>1</td>\n      <td>1</td>\n      <td>1</td>\n      <td>0</td>\n      <td>0</td>\n      <td>0</td>\n      <td>0</td>\n      <td>0</td>\n      <td>1</td>\n      <td>1</td>\n      <td>5</td>\n    </tr>\n    <tr>\n      <th>12410</th>\n      <td>1</td>\n      <td>1</td>\n      <td>1</td>\n      <td>0</td>\n      <td>0</td>\n      <td>0</td>\n      <td>0</td>\n      <td>0</td>\n      <td>1</td>\n      <td>1</td>\n      <td>5</td>\n    </tr>\n    <tr>\n      <th>12835</th>\n      <td>1</td>\n      <td>1</td>\n      <td>1</td>\n      <td>0</td>\n      <td>0</td>\n      <td>0</td>\n      <td>0</td>\n      <td>0</td>\n      <td>1</td>\n      <td>1</td>\n      <td>5</td>\n    </tr>\n    <tr>\n      <th>...</th>\n      <td>...</td>\n      <td>...</td>\n      <td>...</td>\n      <td>...</td>\n      <td>...</td>\n      <td>...</td>\n      <td>...</td>\n      <td>...</td>\n      <td>...</td>\n      <td>...</td>\n      <td>...</td>\n    </tr>\n    <tr>\n      <th>18379</th>\n      <td>1</td>\n      <td>1</td>\n      <td>1</td>\n      <td>1</td>\n      <td>1</td>\n      <td>1</td>\n      <td>0</td>\n      <td>1</td>\n      <td>1</td>\n      <td>1</td>\n      <td>9</td>\n    </tr>\n    <tr>\n      <th>19434</th>\n      <td>1</td>\n      <td>1</td>\n      <td>1</td>\n      <td>1</td>\n      <td>1</td>\n      <td>1</td>\n      <td>0</td>\n      <td>1</td>\n      <td>1</td>\n      <td>1</td>\n      <td>9</td>\n    </tr>\n    <tr>\n      <th>19475</th>\n      <td>1</td>\n      <td>1</td>\n      <td>1</td>\n      <td>1</td>\n      <td>1</td>\n      <td>1</td>\n      <td>0</td>\n      <td>1</td>\n      <td>1</td>\n      <td>1</td>\n      <td>9</td>\n    </tr>\n    <tr>\n      <th>19489</th>\n      <td>1</td>\n      <td>0</td>\n      <td>0</td>\n      <td>1</td>\n      <td>1</td>\n      <td>1</td>\n      <td>0</td>\n      <td>0</td>\n      <td>0</td>\n      <td>1</td>\n      <td>5</td>\n    </tr>\n    <tr>\n      <th>Total</th>\n      <td>131</td>\n      <td>115</td>\n      <td>112</td>\n      <td>41</td>\n      <td>41</td>\n      <td>43</td>\n      <td>14</td>\n      <td>45</td>\n      <td>117</td>\n      <td>127</td>\n      <td>786</td>\n    </tr>\n  </tbody>\n</table>\n<p>131 rows × 11 columns</p>\n</div>"
     },
     "metadata": {},
     "execution_count": 153
    }
   ],
   "source": [
    "summary_table = pd.pivot_table(\n",
    "    df[df['extension']=='nii.gz'], \n",
    "    index = ['subject'], \n",
    "    columns = ['modality','scan'], \n",
    "    values = ['File Count'], \n",
    "    aggfunc = pd.Series.nunique, \n",
    "    fill_value = 0, \n",
    "    margins = True, \n",
    "    margins_name = 'Total'\n",
    "    )\n",
    "\n",
    "summary_table['File Count']"
   ]
  }
 ]
}