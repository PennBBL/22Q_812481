{
 "metadata": {
  "language_info": {
   "codemirror_mode": {
    "name": "ipython",
    "version": 3
   },
   "file_extension": ".py",
   "mimetype": "text/x-python",
   "name": "python",
   "nbconvert_exporter": "python",
   "pygments_lexer": "ipython3",
   "version": "3.8.5-final"
  },
  "orig_nbformat": 2,
  "kernelspec": {
   "name": "python3",
   "display_name": "Python 3.8.5 64-bit",
   "metadata": {
    "interpreter": {
     "hash": "516b87fc7de28c1ceda8fc47f1433752345eefe45ffbb466d5f717b9a56c195f"
    }
   }
  }
 },
 "nbformat": 4,
 "nbformat_minor": 2,
 "cells": [
  {
   "source": [
    "# Post-Curation BIDS Clean-Update\n",
    "### The following functions assist in removing extraneous `.tsv` files that were added to Flywheel during the curation process for 22Q.\n",
    "\n",
    "Project: 22Q_812481\n",
    "\n",
    "Author: Katja Zoner\n",
    "\n",
    "Updated: 03/12/2021\n",
    "\n"
   ],
   "cell_type": "markdown",
   "metadata": {}
  },
  {
   "source": [
    "## Step 0: Setting up logging, initializing the Flywheel client, gathering sessions to process."
   ],
   "cell_type": "markdown",
   "metadata": {}
  },
  {
   "cell_type": "code",
   "execution_count": null,
   "metadata": {},
   "outputs": [],
   "source": [
    "import flywheel\n",
    "import logging\n",
    "import sys\n",
    "import re\n",
    "\n",
    "# Set up logging\n",
    "logging.basicConfig(\n",
    "    stream=sys.stdout,\n",
    "    level=logging.INFO,\n",
    "    format='%(levelname)s: %(message)s')\n",
    "logger = logging.getLogger('fw_remove_files')"
   ]
  },
  {
   "cell_type": "code",
   "execution_count": null,
   "metadata": {},
   "outputs": [],
   "source": [
    "# Get API_KEY from FW profile\n",
    "API_KEY = \"upenn.flywheel.io:47vhOSDkwMxGRNxFq0\"\n",
    "\n",
    "# Get client\n",
    "fw = flywheel.Client(API_KEY)\n",
    "assert fw, \"Your Flywheel CLI credentials aren't set!\"\n",
    "\n",
    "# Specify project\n",
    "project_label = \"22Q_812481\"\n",
    "\n",
    "# Get project object\n",
    "project = fw.projects.find_first('label=\"{}\"'.format(project_label))\n",
    "assert project, \"Project not found!\"\n",
    "\n",
    "# Specify sessions (optional)\n",
    "session_labels = None\n",
    "#session_labels = [\"010288\",\"008120\"]\n",
    "\n",
    "# Get all sessions in project\n",
    "sessions = project.sessions()\n",
    "\n",
    "# Filter by optionally-specified session label list\n",
    "if session_labels:\n",
    "    sessions = [s for s in sessions if s.label in session_labels]\n",
    "\n"
   ]
  },
  {
   "source": [
    "# Post-curation BIDS clean-up\n",
    "\n",
    "## Step 1: Removing all mis-named `aslcontext.tsv` files.\n",
    "\n",
    "In an earlier round of curation, aslcontext.tsv files were added to flywheel with the wrong naming scheme:\n",
    "\n",
    "- aslcontext.tsv files named: `sub-<#>_ses-22Q<#>_aslcontext.tsv` should be deleted.\n",
    "- aslcontext.tsv files named: `sub-<#>_ses-22Q<#>_acq-se_aslcontext.tsv`, should be retained. Note the addition of `acq-se`.\n",
    "\n",
    "\n"
   ],
   "cell_type": "markdown",
   "metadata": {}
  },
  {
   "cell_type": "code",
   "execution_count": 18,
   "metadata": {},
   "outputs": [],
   "source": [
    "def removeFile(rmRegex):\n",
    "    '''\n",
    "    Remove file matching rmRegex from session level.\n",
    "    '''\n",
    "    \n",
    "    for sess in sessions:\n",
    "        files = [f for f in sess.files if re.match(rmRegex, f.name) ]\n",
    "        for f in files:\n",
    "            sess.delete_file(f.name)"
   ]
  },
  {
   "cell_type": "code",
   "execution_count": null,
   "metadata": {},
   "outputs": [],
   "source": [
    "# Remove mis-named: sub-<#>_ses-22Q<#>_aslcontext.tsv files,\n",
    "# but retain correctly named: sub-<#>_ses-22Q<#>_acq-se_aslcontext.tsv\n",
    "rmRegex = \".*(?<!acq-se)_aslcontext.tsv\" # target files ending with _aslcontext.tsv, not preceded by acq-se\n",
    "removeFile(rmRegex)"
   ]
  },
  {
   "source": [
    "\n",
    "## Step 2: Conditionally removing `.tsv` files in sessions without accompanying scan files.\n",
    "\n",
    "The `heuristic.py` curation script attaches `*_aslcontext.csv` and `*_task-idemo_events.tsv` files to _all_ sessions, regardless of whether or not the session contains ASL or idemo task fMRI scans.\n",
    "\n",
    "The following code:\n",
    "\n",
    "1. Removes the `*_aslcontext.tsv` from each session that does not contain the ASL scan, and\n",
    "2. Removes the `*_task-idemo_events.tsv` file from each session that does not contain the idemo fMRI task scan.\n"
   ],
   "cell_type": "markdown",
   "metadata": {}
  },
  {
   "cell_type": "code",
   "execution_count": 17,
   "metadata": {},
   "outputs": [],
   "source": [
    "def conditionalRemoveFile(reqRegex,rmRegex):\n",
    "    ''' \n",
    "    Remove file matching rmRegex from session only if\n",
    "    required file matching reqRegex exists in any of the\n",
    "    acquisitions in this session.\n",
    "    '''\n",
    "\n",
    "    # Loop through each session\n",
    "    for sess in sessions:\n",
    "        hasRequiredFile = False\n",
    "        # Loop through each acquition\n",
    "        for acq in sess.acquisitions():\n",
    "            # Check current acquisition for required bids file.\n",
    "            for f in acq.files:\n",
    "                try:\n",
    "                    # If current file is bids file matching reqRegex --> break.\n",
    "                    if re.match(reqRegex,f.info['BIDS']['Filename']):\n",
    "                        hasRequiredFile = True\n",
    "                        break\n",
    "                except:\n",
    "                    next\n",
    "\n",
    "            # If required file was found in any acquisition, \n",
    "            # then no file removal is necessary for this session.\n",
    "            if hasRequiredFile:\n",
    "                break\n",
    "        \n",
    "        # If required file not found after checking all acquisitions/files in session,\n",
    "        # delete file(s) matching rmRegex.\n",
    "        if not hasRequiredFile:\n",
    "            removalFiles = [f for f in sess.files if re.match(rmRegex,f.name)]\n",
    "            for f in removalFiles:\n",
    "                sess.delete_file(f.name)\n",
    "                logger.info(f\"Removing {f.name} from session {sess.label}\")   \n",
    "        \n"
   ]
  },
  {
   "cell_type": "code",
   "execution_count": 19,
   "metadata": {},
   "outputs": [
    {
     "output_type": "stream",
     "name": "stdout",
     "text": [
      "INFO: Removing sub-14528_ses-22Q1_acq-se_aslcontext.tsv from session 010287\n",
      "INFO: Removing sub-16261_ses-22Q1_acq-se_aslcontext.tsv from session 005634\n",
      "INFO: Removing sub-17722_ses-22Q1_acq-se_aslcontext.tsv from session 010291\n"
     ]
    }
   ],
   "source": [
    "# Remove *_aslcontext.tsv file from all sessions missing asl scans.\n",
    "reqRegex = \".*acq-se_asl.nii.gz\"\n",
    "rmRegex = \".*_aslcontext.tsv\"\n",
    "conditionalRemoveFile(reqRegex,rmRegex)\n"
   ]
  },
  {
   "cell_type": "code",
   "execution_count": 20,
   "metadata": {},
   "outputs": [
    {
     "output_type": "stream",
     "name": "stdout",
     "text": [
      "INFO: Removing sub-17667_ses-22Q1_task-idemo_events.tsv from session 007699\n",
      "INFO: Removing sub-17053_ses-22Q1_task-idemo_events.tsv from session 006493\n",
      "INFO: Removing sub-16415_ses-22Q1_task-idemo_events.tsv from session 005121\n",
      "INFO: Removing sub-15972_ses-22Q1_task-idemo_events.tsv from session 004192\n",
      "INFO: Removing sub-14549_ses-22Q1_task-idemo_events.tsv from session 004910\n",
      "INFO: Removing sub-15062_ses-22Q1_task-idemo_events.tsv from session 004796\n",
      "INFO: Removing sub-16277_ses-22Q1_task-idemo_events.tsv from session 005665\n",
      "INFO: Removing sub-16527_ses-22Q1_task-idemo_events.tsv from session 005535\n",
      "INFO: Removing sub-16017_ses-22Q1_task-idemo_events.tsv from session 004291\n",
      "INFO: Removing sub-19489_ses-22Q1_task-idemo_events.tsv from session 009917\n",
      "INFO: Removing sub-16812_ses-22Q1_task-idemo_events.tsv from session 006298\n",
      "INFO: Removing sub-13473_ses-22Q1_task-idemo_events.tsv from session 005962\n",
      "INFO: Removing sub-16779_ses-22Q1_task-idemo_events.tsv from session 005889\n",
      "INFO: Removing sub-13907_ses-22Q1_task-idemo_events.tsv from session 005157\n",
      "INFO: Removing sub-16855_ses-22Q1_task-idemo_events.tsv from session 006228\n",
      "INFO: Removing sub-11936_ses-22Q1_task-idemo_events.tsv from session 005450\n",
      "INFO: Removing sub-16432_ses-22Q1_task-idemo_events.tsv from session 005176\n",
      "INFO: Removing sub-11706_ses-22Q1_task-idemo_events.tsv from session 004909\n",
      "INFO: Removing sub-15996_ses-22Q1_task-idemo_events.tsv from session 004191\n",
      "INFO: Removing sub-14528_ses-22Q1_task-idemo_events.tsv from session 010287\n",
      "INFO: Removing sub-17565_ses-22Q1_task-idemo_events.tsv from session 007614\n",
      "INFO: Removing sub-13831_ses-22Q1_task-idemo_events.tsv from session 005440\n",
      "INFO: Removing sub-16049_ses-22Q1_task-idemo_events.tsv from session 004424\n",
      "INFO: Removing sub-16875_ses-22Q1_task-idemo_events.tsv from session 006106\n",
      "INFO: Removing sub-16818_ses-22Q1_task-idemo_events.tsv from session 006088\n",
      "INFO: Removing sub-16048_ses-22Q1_task-idemo_events.tsv from session 005736\n",
      "INFO: Removing sub-17276_ses-22Q1_task-idemo_events.tsv from session 007233\n",
      "INFO: Removing sub-17208_ses-22Q1_task-idemo_events.tsv from session 006814\n",
      "INFO: Removing sub-17085_ses-22Q1_task-idemo_events.tsv from session 006556\n",
      "INFO: Removing sub-16479_ses-22Q1_task-idemo_events.tsv from session 005408\n",
      "INFO: Removing sub-15422_ses-22Q1_task-idemo_events.tsv from session 005285\n",
      "INFO: Removing sub-13563_ses-22Q1_task-idemo_events.tsv from session 004759\n",
      "INFO: Removing sub-16212_ses-22Q1_task-idemo_events.tsv from session 004630\n",
      "INFO: Removing sub-16172_ses-22Q1_task-idemo_events.tsv from session 004551\n",
      "INFO: Removing sub-17934_ses-22Q1_task-idemo_events.tsv from session 008254\n",
      "INFO: Removing sub-17468_ses-22Q1_task-idemo_events.tsv from session 007400\n",
      "INFO: Removing sub-17393_ses-22Q1_task-idemo_events.tsv from session 007194\n",
      "INFO: Removing sub-16602_ses-22Q1_task-idemo_events.tsv from session 005628\n",
      "INFO: Removing sub-14485_ses-22Q1_task-idemo_events.tsv from session 005202\n",
      "INFO: Removing sub-15409_ses-22Q1_task-idemo_events.tsv from session 005175\n",
      "INFO: Removing sub-14298_ses-22Q1_task-idemo_events.tsv from session 004970\n",
      "INFO: Removing sub-13550_ses-22Q1_task-idemo_events.tsv from session 004739\n",
      "INFO: Removing sub-17637_ses-22Q1_task-idemo_events.tsv from session 007646\n",
      "INFO: Removing sub-17277_ses-22Q1_task-idemo_events.tsv from session 007232\n",
      "INFO: Removing sub-16671_ses-22Q1_task-idemo_events.tsv from session 005834\n",
      "INFO: Removing sub-16609_ses-22Q1_task-idemo_events.tsv from session 005536\n",
      "INFO: Removing sub-16580_ses-22Q1_task-idemo_events.tsv from session 005477\n",
      "INFO: Removing sub-16427_ses-22Q1_task-idemo_events.tsv from session 005135\n",
      "INFO: Removing sub-14776_ses-22Q1_task-idemo_events.tsv from session 004869\n",
      "INFO: Removing sub-109741_ses-22Q1_task-idemo_events.tsv from session 004694\n",
      "INFO: Removing sub-17630_ses-22Q1_task-idemo_events.tsv from session 007767\n",
      "INFO: Removing sub-17481_ses-22Q1_task-idemo_events.tsv from session 007438\n",
      "INFO: Removing sub-15344_ses-22Q1_task-idemo_events.tsv from session 007399\n",
      "INFO: Removing sub-16897_ses-22Q1_task-idemo_events.tsv from session 006146\n",
      "INFO: Removing sub-16261_ses-22Q1_task-idemo_events.tsv from session 005634\n",
      "INFO: Removing sub-16314_ses-22Q1_task-idemo_events.tsv from session 005125\n",
      "INFO: Removing sub-13834_ses-22Q1_task-idemo_events.tsv from session 004561\n",
      "INFO: Removing sub-17722_ses-22Q1_task-idemo_events.tsv from session 010291\n",
      "INFO: Removing sub-17518_ses-22Q1_task-idemo_events.tsv from session 007481\n",
      "INFO: Removing sub-17253_ses-22Q1_task-idemo_events.tsv from session 006938\n",
      "INFO: Removing sub-16845_ses-22Q1_task-idemo_events.tsv from session 006063\n",
      "INFO: Removing sub-16368_ses-22Q1_task-idemo_events.tsv from session 005106\n",
      "INFO: Removing sub-12835_ses-22Q1_task-idemo_events.tsv from session 004779\n",
      "INFO: Removing sub-16095_ses-22Q1_task-idemo_events.tsv from session 004390\n",
      "INFO: Removing sub-17744_ses-22Q1_task-idemo_events.tsv from session 007850\n",
      "INFO: Removing sub-17348_ses-22Q1_task-idemo_events.tsv from session 007100\n",
      "INFO: Removing sub-17284_ses-22Q1_task-idemo_events.tsv from session 007001\n",
      "INFO: Removing sub-12410_ses-22Q1_task-idemo_events.tsv from session 006230\n",
      "INFO: Removing sub-16485_ses-22Q1_task-idemo_events.tsv from session 005390\n",
      "INFO: Removing sub-14679_ses-22Q1_task-idemo_events.tsv from session 004971\n",
      "INFO: Removing sub-16223_ses-22Q1_task-idemo_events.tsv from session 004829\n",
      "INFO: Removing sub-16211_ses-22Q1_task-idemo_events.tsv from session 004629\n",
      "INFO: Removing sub-13099_ses-22Q1_task-idemo_events.tsv from session 004518\n",
      "INFO: Removing sub-17631_ses-22Q1_task-idemo_events.tsv from session 007746\n",
      "INFO: Removing sub-17479_ses-22Q1_task-idemo_events.tsv from session 007449\n",
      "INFO: Removing sub-17246_ses-22Q1_task-idemo_events.tsv from session 006996\n",
      "INFO: Removing sub-16962_ses-22Q1_task-idemo_events.tsv from session 006595\n",
      "INFO: Removing sub-16933_ses-22Q1_task-idemo_events.tsv from session 006343\n",
      "INFO: Removing sub-15309_ses-22Q1_task-idemo_events.tsv from session 005371\n",
      "INFO: Removing sub-15067_ses-22Q1_task-idemo_events.tsv from session 005316\n",
      "INFO: Removing sub-16424_ses-22Q1_task-idemo_events.tsv from session 005301\n",
      "INFO: Removing sub-17825_ses-22Q1_task-idemo_events.tsv from session 010288\n",
      "INFO: Removing sub-17736_ses-22Q1_task-idemo_events.tsv from session 007814\n",
      "INFO: Removing sub-15317_ses-22Q1_task-idemo_events.tsv from session 006180\n",
      "INFO: Removing sub-16724_ses-22Q1_task-idemo_events.tsv from session 005963\n",
      "INFO: Removing sub-16174_ses-22Q1_task-idemo_events.tsv from session 004564\n"
     ]
    }
   ],
   "source": [
    "# Remove *_task-idemo_events.tsv from all sessions missing the idemo fMRI task scan.\n",
    "reqRegex = \".*task-idemo_bold.nii.gz\"\n",
    "rmRegex = \".*task-idemo_events.tsv\"\n",
    "conditionalRemoveFile(reqRegex,rmRegex)"
   ]
  },
  {
   "source": [
    "### Now the 22Q BIDS data on Flywheel should contain no extraneous `.tsv` files!"
   ],
   "cell_type": "markdown",
   "metadata": {}
  }
 ]
}